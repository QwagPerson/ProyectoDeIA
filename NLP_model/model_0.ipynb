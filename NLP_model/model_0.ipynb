{
  "nbformat": 4,
  "nbformat_minor": 0,
  "metadata": {
    "colab": {
      "provenance": []
    },
    "kernelspec": {
      "name": "python3",
      "display_name": "Python 3"
    },
    "language_info": {
      "name": "python"
    }
  },
  "cells": [
    {
      "cell_type": "markdown",
      "source": [
        "# Proeycto de IA - ChatBox\n",
        "\n",
        "Departamento de Ciencias de la Computación, Universidad de Chile.\n",
        "\n",
        "CC6409: Taller de Desarrollo de Poryectod e IA - Otoño 2023\n",
        "\n",
        "**Integrantes:**\n",
        "- Garrido Martín\n",
        "- Gómez Nahuel\n",
        "- Santelices Gustavo\n"
      ],
      "metadata": {
        "id": "RrDk4gjfu6HL"
      }
    },
    {
      "cell_type": "markdown",
      "source": [
        "## Import"
      ],
      "metadata": {
        "id": "SugtK4Qlu19U"
      }
    },
    {
      "cell_type": "code",
      "source": [
        "import pandas as pd\n",
        "from sklearn.pipeline import Pipeline, FeatureUnion\n",
        "from sklearn.feature_extraction.text import CountVectorizer\n",
        "from sklearn.naive_bayes import MultinomialNB\n",
        "from sklearn.model_selection import train_test_split\n",
        "from sklearn.metrics import accuracy_score, precision_score, recall_score, f1_score, roc_auc_score, confusion_matrix, cohen_kappa_score, classification_report\n",
        "\n",
        "from sklearn.base import BaseEstimator, TransformerMixin\n",
        "import re\n",
        "import numpy as np"
      ],
      "metadata": {
        "id": "XJbIlDWjqXHA"
      },
      "execution_count": 1,
      "outputs": []
    },
    {
      "cell_type": "markdown",
      "source": [
        "## data"
      ],
      "metadata": {
        "id": "47_Qf8Fiu3y7"
      }
    },
    {
      "cell_type": "code",
      "execution_count": 3,
      "metadata": {
        "id": "J0NrlV_7ppMu"
      },
      "outputs": [],
      "source": [
        "# handmade\n",
        "hand_nawel_0 = pd.read_csv(\"https://raw.githubusercontent.com/QwagPerson/ProyectoDeIA/main/Data/Handmade/asistire_nawel.csv\", sep = ';')\n",
        "hand_nawel_1 = pd.read_csv(\"https://raw.githubusercontent.com/QwagPerson/ProyectoDeIA/main/Data/Handmade/no_asistire_nawel.csv\", sep = ';')\n",
        "hand_nawel_2 = pd.read_csv(\"https://raw.githubusercontent.com/QwagPerson/ProyectoDeIA/main/Data/Handmade/reagendar_nawel.csv\", sep = ';')\n",
        "hand_nawel_3 = pd.read_csv(\"https://raw.githubusercontent.com/QwagPerson/ProyectoDeIA/main/Data/Handmade/pedir_nawel.csv\", sep = ';')\n",
        "\n",
        "hand_tavo_0 = pd.read_csv(\"https://raw.githubusercontent.com/QwagPerson/ProyectoDeIA/main/Data/Handmade/asistire_tavo.csv\", sep = ';')\n",
        "hand_tavo_1 = pd.read_csv(\"https://raw.githubusercontent.com/QwagPerson/ProyectoDeIA/main/Data/Handmade/no_asistire_tavo.csv\", sep = ';')\n",
        "#hand_tavo_2 = pd.read_csv(\"https://raw.githubusercontent.com/QwagPerson/ProyectoDeIA/main/Data/Handmade/reagendar_tavo.csv\", sep = ',')\n",
        "hand_tavo_3 = pd.read_csv(\"https://raw.githubusercontent.com/QwagPerson/ProyectoDeIA/main/Data/Handmade/pedir_tavo.csv\", sep = ';')\n",
        "\n",
        "hand_martin_0 = pd.read_csv(\"https://raw.githubusercontent.com/QwagPerson/ProyectoDeIA/main/Data/Handmade/asistire_martin.csv\", sep = ';', encoding = 'latin-1')\n",
        "hand_martin_1 = pd.read_csv(\"https://raw.githubusercontent.com/QwagPerson/ProyectoDeIA/main/Data/Handmade/no_asistire_martin.csv\", sep = ';')\n",
        "#hand_martin_2 = pd.read_csv(\"https://raw.githubusercontent.com/QwagPerson/ProyectoDeIA/main/Data/Handmade/reagendar_martin.csv\", sep = ',')\n",
        "hand_martin_3 = pd.read_csv(\"https://raw.githubusercontent.com/QwagPerson/ProyectoDeIA/main/Data/Handmade/pedir_martin.csv\", sep = ';')"
      ]
    },
    {
      "cell_type": "code",
      "source": [
        "# GPT\n",
        "gpt_nawel_0 = pd.read_csv(\"https://raw.githubusercontent.com/QwagPerson/ProyectoDeIA/main/Data/GPT_generated/asistire_nawel.csv\", sep = ';')\n",
        "gpt_nawel_1 = pd.read_csv(\"https://raw.githubusercontent.com/QwagPerson/ProyectoDeIA/main/Data/GPT_generated/no_asistire_nawel.csv\", sep = ';')\n",
        "gpt_nawel_2 = pd.read_csv(\"https://raw.githubusercontent.com/QwagPerson/ProyectoDeIA/main/Data/GPT_generated/reagendar_nawel.csv\", sep = ';')\n",
        "gpt_nawel_3 = pd.read_csv(\"https://raw.githubusercontent.com/QwagPerson/ProyectoDeIA/main/Data/GPT_generated/pedir_nawel.csv\", sep = ';')\n"
      ],
      "metadata": {
        "id": "sRwvvqnJqfKQ"
      },
      "execution_count": 4,
      "outputs": []
    },
    {
      "cell_type": "code",
      "source": [
        "df_ = pd.concat([hand_nawel_0, hand_nawel_1, hand_nawel_2, hand_nawel_3,\n",
        "                 gpt_nawel_0, gpt_nawel_1, gpt_nawel_2, gpt_nawel_3,\n",
        "                 hand_tavo_0, hand_tavo_1, hand_tavo_3,\n",
        "                 hand_martin_0, hand_martin_1, hand_martin_3])\n",
        "\n",
        "df_.count()"
      ],
      "metadata": {
        "colab": {
          "base_uri": "https://localhost:8080/"
        },
        "id": "piVtRE1KtSBs",
        "outputId": "f4b39ef7-ea47-4f52-c511-2994cad69235"
      },
      "execution_count": 6,
      "outputs": [
        {
          "output_type": "execute_result",
          "data": {
            "text/plain": [
              "class    358\n",
              "text     358\n",
              "dtype: int64"
            ]
          },
          "metadata": {},
          "execution_count": 6
        }
      ]
    },
    {
      "cell_type": "code",
      "source": [
        "df_['class'].value_counts()"
      ],
      "metadata": {
        "colab": {
          "base_uri": "https://localhost:8080/"
        },
        "id": "hbkIOlhkuNP8",
        "outputId": "8234e091-add4-4988-fb00-a280e82d1d8a"
      },
      "execution_count": 7,
      "outputs": [
        {
          "output_type": "execute_result",
          "data": {
            "text/plain": [
              "0    117\n",
              "1    113\n",
              "3     91\n",
              "2     37\n",
              "Name: class, dtype: int64"
            ]
          },
          "metadata": {},
          "execution_count": 7
        }
      ]
    },
    {
      "cell_type": "markdown",
      "source": [
        "## Custom Features"
      ],
      "metadata": {
        "id": "0a2GPoPe1fpG"
      }
    },
    {
      "cell_type": "code",
      "source": [
        "class PreProccesingTransformer(BaseEstimator, TransformerMixin):\n",
        "    def preprocess(self,sentence):\n",
        "      # Deleting all except: exclamation/question signs and accents\n",
        "      new_word = re.sub(r\"[^a-zA-ZáéíóúÁÉÍÓÚñÑ¡!¿?\\s]\", '', sentence)\n",
        "      # Deleting double blank spaces\n",
        "      new_sentence = new_word.replace('  ',' ').replace('\\n','').strip()\n",
        "      return new_sentence\n",
        "\n",
        "    def transform(self, X, y=None):\n",
        "        values = []\n",
        "        for tweet in X:\n",
        "            values.append(self.preprocess(tweet))\n",
        "\n",
        "        return(np.array(values))\n",
        "\n",
        "    def fit(self, X, y=None):\n",
        "        return self"
      ],
      "metadata": {
        "id": "gxQn-gB91jds"
      },
      "execution_count": 8,
      "outputs": []
    },
    {
      "cell_type": "markdown",
      "source": [
        "## Pipeline"
      ],
      "metadata": {
        "id": "6LJM2N-Uvx0j"
      }
    },
    {
      "cell_type": "markdown",
      "source": [
        "### Run Pipeline"
      ],
      "metadata": {
        "id": "dewh_gkEyZNh"
      }
    },
    {
      "cell_type": "code",
      "source": [
        "# Defining threshold\n",
        "thresholds = {\n",
        "    0: 0.85,  # class 0\n",
        "    1: 0.85,  # class 1\n",
        "    2: 0.85,   # class 2\n",
        "    3: 0.85   #class 3\n",
        "}\n",
        "\n",
        "\n",
        "def custom_predict(model, X, class_thresholds):\n",
        "    # Get probabilities\n",
        "    probabilities = model.predict_proba(X)\n",
        "\n",
        "    # Aplied threshold\n",
        "    modified_predictions = np.argmax(probabilities, axis=1)\n",
        "    for class_label, threshold in class_thresholds.items():\n",
        "        modified_predictions[probabilities[:, class_label] > threshold] = class_label\n",
        "\n",
        "    return modified_predictions"
      ],
      "metadata": {
        "id": "81FPMnTLM0Ts"
      },
      "execution_count": 45,
      "outputs": []
    },
    {
      "cell_type": "code",
      "source": [
        "def run(dataset, pipeline):\n",
        "\n",
        "    X_train, X_test, y_train, y_test = train_test_split(\n",
        "        dataset['text'],\n",
        "        dataset['class'],\n",
        "        shuffle=True,\n",
        "        test_size=0.2,\n",
        "        random_state=42,\n",
        "        stratify=dataset['class']\n",
        "    )\n",
        "\n",
        "    print(f\"# Len Training Data: {len(X_train)}\")\n",
        "    print(f\"# Len Testing Data: {len(X_test)}\")\n",
        "\n",
        "    pipeline.fit(X_train, y_train)\n",
        "\n",
        "\n",
        "    # Classes propbailities\n",
        "    probabilities = pipeline.predict_proba(X_test)\n",
        "\n",
        "\n",
        "    # Predicted labels\n",
        "    #predicted_labels = pipeline.predict(X_test)\n",
        "    predicted_labels = custom_predict(pipeline, X_test, thresholds)\n",
        "\n",
        "\n",
        "    print(classification_report(y_test, predicted_labels))\n",
        "\n",
        "\n",
        "    return pipeline, X_train, X_test, y_train, y_test, predicted_labels, probabilities\n"
      ],
      "metadata": {
        "id": "GGE3LfHRysWI"
      },
      "execution_count": 48,
      "outputs": []
    },
    {
      "cell_type": "markdown",
      "source": [
        "## Defining Pipelines"
      ],
      "metadata": {
        "id": "wIMBgRmCyd6Y"
      }
    },
    {
      "cell_type": "code",
      "source": [
        "# simple Pipeline only BOW\n",
        "\n",
        "def get_experiment_0_pipeline():\n",
        "\n",
        "    return Pipeline(\n",
        "        [\n",
        "            (\n",
        "                \"features\",\n",
        "                FeatureUnion(\n",
        "                    [\n",
        "                        (\"bow\", CountVectorizer()),\n",
        "                    ]\n",
        "                ),\n",
        "            ),\n",
        "            (\"clf\", MultinomialNB()),\n",
        "        ]\n",
        "    )"
      ],
      "metadata": {
        "id": "RoiPLpB6wNgx"
      },
      "execution_count": 26,
      "outputs": []
    },
    {
      "cell_type": "code",
      "source": [
        "# simple Pipeline only Preprocessing + BOW\n",
        "\n",
        "def get_experiment_1_pipeline():\n",
        "\n",
        "    return Pipeline(\n",
        "        [\n",
        "            (\"preprocessing\", PreProccesingTransformer()),\n",
        "            (\n",
        "                \"features\",\n",
        "                FeatureUnion(\n",
        "                    [\n",
        "                        (\"bow\", CountVectorizer())\n",
        "                    ]\n",
        "                ),\n",
        "            ),\n",
        "            (\"clf\", MultinomialNB()),\n",
        "        ]\n",
        "    )"
      ],
      "metadata": {
        "id": "tqZbmwfz2UTM"
      },
      "execution_count": 16,
      "outputs": []
    },
    {
      "cell_type": "markdown",
      "source": [
        "## Implementación del modelo"
      ],
      "metadata": {
        "id": "f7cZ4DHxxQMJ"
      }
    },
    {
      "cell_type": "code",
      "source": [
        "# Simple Pipeline Test\n",
        "pipeline0 = get_experiment_0_pipeline()\n",
        "\n",
        "prob = run(df_, pipeline0)"
      ],
      "metadata": {
        "colab": {
          "base_uri": "https://localhost:8080/"
        },
        "id": "p2Jy6hTjyG5A",
        "outputId": "a9d1f332-560b-40fc-ad95-95d1ee4b157a"
      },
      "execution_count": 49,
      "outputs": [
        {
          "output_type": "stream",
          "name": "stdout",
          "text": [
            "# Len Training Data: 286\n",
            "# Len Testing Data: 72\n",
            "              precision    recall  f1-score   support\n",
            "\n",
            "           0       0.79      0.79      0.79        24\n",
            "           1       0.76      0.70      0.73        23\n",
            "           2       0.75      0.43      0.55         7\n",
            "           3       0.78      1.00      0.88        18\n",
            "\n",
            "    accuracy                           0.78        72\n",
            "   macro avg       0.77      0.73      0.74        72\n",
            "weighted avg       0.78      0.78      0.77        72\n",
            "\n"
          ]
        }
      ]
    },
    {
      "cell_type": "code",
      "source": [
        "# Simple Pipeline Test (+ preprocessing)\n",
        "pipeline1 = get_experiment_1_pipeline()\n",
        "\n",
        "_ = run(df_, pipeline1)"
      ],
      "metadata": {
        "colab": {
          "base_uri": "https://localhost:8080/"
        },
        "id": "bnQh_0k42teE",
        "outputId": "00072766-027a-459f-8702-38a52b11b0af"
      },
      "execution_count": 50,
      "outputs": [
        {
          "output_type": "stream",
          "name": "stdout",
          "text": [
            "# Len Training Data: 286\n",
            "# Len Testing Data: 72\n",
            "              precision    recall  f1-score   support\n",
            "\n",
            "           0       0.79      0.79      0.79        24\n",
            "           1       0.76      0.70      0.73        23\n",
            "           2       0.75      0.43      0.55         7\n",
            "           3       0.78      1.00      0.88        18\n",
            "\n",
            "    accuracy                           0.78        72\n",
            "   macro avg       0.77      0.73      0.74        72\n",
            "weighted avg       0.78      0.78      0.77        72\n",
            "\n"
          ]
        }
      ]
    }
  ]
}