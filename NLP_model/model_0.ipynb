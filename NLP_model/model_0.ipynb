{
 "cells": [
  {
   "attachments": {},
   "cell_type": "markdown",
   "metadata": {
    "id": "RrDk4gjfu6HL"
   },
   "source": [
    "# Proeycto de IA - ChatBox\n",
    "\n",
    "Departamento de Ciencias de la Computación, Universidad de Chile.\n",
    "\n",
    "CC6409: Taller de Desarrollo de Poryectod e IA - Otoño 2023\n",
    "\n",
    "**Integrantes:**\n",
    "- Garrido Martín\n",
    "- Gómez Nahuel\n",
    "- Santelices Gustavo\n"
   ]
  },
  {
   "attachments": {},
   "cell_type": "markdown",
   "metadata": {
    "id": "SugtK4Qlu19U"
   },
   "source": [
    "## Import"
   ]
  },
  {
   "cell_type": "code",
   "execution_count": 35,
   "metadata": {
    "id": "XJbIlDWjqXHA"
   },
   "outputs": [],
   "source": [
    "import pandas as pd\n",
    "from sklearn.pipeline import Pipeline, FeatureUnion\n",
    "from sklearn.feature_extraction.text import CountVectorizer\n",
    "from sklearn.naive_bayes import MultinomialNB\n",
    "from sklearn.model_selection import train_test_split\n",
    "from sklearn.metrics import accuracy_score, precision_score, recall_score, f1_score, roc_auc_score, confusion_matrix, cohen_kappa_score, classification_report\n",
    "\n",
    "from sklearn.base import BaseEstimator, TransformerMixin\n",
    "import re\n",
    "import numpy as np\n",
    "import nlpaug.augmenter.word as naw # To synonym, see  to more info https://github.com/makcedward/nlpaug\n",
    "import nlpaug.augmenter.char as nac\n",
    "from mtranslate import translate\n",
    "import pickle\n",
    "from gensim.models.keyedvectors import KeyedVectors\n",
    "import os\n",
    "from nltk.tokenize import TweetTokenizer"
   ]
  },
  {
   "attachments": {},
   "cell_type": "markdown",
   "metadata": {
    "id": "47_Qf8Fiu3y7"
   },
   "source": [
    "## data"
   ]
  },
  {
   "cell_type": "code",
   "execution_count": 2,
   "metadata": {
    "id": "J0NrlV_7ppMu"
   },
   "outputs": [],
   "source": [
    "# handmade\n",
    "hand_nawel_0 = pd.read_csv(\"https://raw.githubusercontent.com/QwagPerson/ProyectoDeIA/main/Data/Handmade/asistire_nawel.csv\", sep = ';')\n",
    "hand_nawel_1 = pd.read_csv(\"https://raw.githubusercontent.com/QwagPerson/ProyectoDeIA/main/Data/Handmade/no_asistire_nawel.csv\", sep = ';')\n",
    "hand_nawel_2 = pd.read_csv(\"https://raw.githubusercontent.com/QwagPerson/ProyectoDeIA/main/Data/Handmade/reagendar_nawel.csv\", sep = ';')\n",
    "hand_nawel_3 = pd.read_csv(\"https://raw.githubusercontent.com/QwagPerson/ProyectoDeIA/main/Data/Handmade/pedir_nawel.csv\", sep = ';')\n",
    "\n",
    "hand_tavo_0 = pd.read_csv(\"https://raw.githubusercontent.com/QwagPerson/ProyectoDeIA/main/Data/Handmade/asistire_tavo.csv\", sep = ';')\n",
    "hand_tavo_1 = pd.read_csv(\"https://raw.githubusercontent.com/QwagPerson/ProyectoDeIA/main/Data/Handmade/no_asistire_tavo.csv\", sep = ';')\n",
    "hand_tavo_2 = pd.read_csv(\"https://raw.githubusercontent.com/QwagPerson/ProyectoDeIA/main/Data/Handmade/reagendar_tavo.csv\", sep = ';')\n",
    "hand_tavo_3 = pd.read_csv(\"https://raw.githubusercontent.com/QwagPerson/ProyectoDeIA/main/Data/Handmade/pedir_tavo.csv\", sep = ';')\n",
    "\n",
    "hand_martin_0 = pd.read_csv(\"https://raw.githubusercontent.com/QwagPerson/ProyectoDeIA/main/Data/Handmade/asistire_martin.csv\", sep = ';', encoding = 'latin-1')\n",
    "hand_martin_1 = pd.read_csv(\"https://raw.githubusercontent.com/QwagPerson/ProyectoDeIA/main/Data/Handmade/no_asistire_martin.csv\", sep = ';')\n",
    "hand_martin_2 = pd.read_csv(\"https://raw.githubusercontent.com/QwagPerson/ProyectoDeIA/main/Data/Handmade/reagendar_martin.csv\", sep = ';')\n",
    "hand_martin_3 = pd.read_csv(\"https://raw.githubusercontent.com/QwagPerson/ProyectoDeIA/main/Data/Handmade/pedir_martin.csv\", sep = ';')"
   ]
  },
  {
   "cell_type": "code",
   "execution_count": 3,
   "metadata": {
    "colab": {
     "base_uri": "https://localhost:8080/"
    },
    "id": "piVtRE1KtSBs",
    "outputId": "f4b39ef7-ea47-4f52-c511-2994cad69235"
   },
   "outputs": [
    {
     "data": {
      "text/plain": [
       "class    345\n",
       "text     345\n",
       "dtype: int64"
      ]
     },
     "execution_count": 3,
     "metadata": {},
     "output_type": "execute_result"
    }
   ],
   "source": [
    "df_ = pd.concat([hand_nawel_0, hand_nawel_1, hand_nawel_2, hand_nawel_3,\n",
    "                 hand_tavo_0, hand_tavo_1, hand_tavo_2, hand_tavo_3,\n",
    "                 hand_martin_0, hand_martin_1, hand_martin_2, hand_martin_3])\n",
    "\n",
    "df_.count()"
   ]
  },
  {
   "cell_type": "code",
   "execution_count": 4,
   "metadata": {
    "colab": {
     "base_uri": "https://localhost:8080/"
    },
    "id": "hbkIOlhkuNP8",
    "outputId": "8234e091-add4-4988-fb00-a280e82d1d8a"
   },
   "outputs": [
    {
     "data": {
      "text/plain": [
       "class\n",
       "0    101\n",
       "1     89\n",
       "2     87\n",
       "3     68\n",
       "Name: count, dtype: int64"
      ]
     },
     "execution_count": 4,
     "metadata": {},
     "output_type": "execute_result"
    }
   ],
   "source": [
    "df_['class'].value_counts()"
   ]
  },
  {
   "attachments": {},
   "cell_type": "markdown",
   "metadata": {},
   "source": [
    "## Data Augmentation (in a first step, to all parameters)"
   ]
  },
  {
   "attachments": {},
   "cell_type": "markdown",
   "metadata": {},
   "source": [
    "### ChatGPT sentences"
   ]
  },
  {
   "cell_type": "code",
   "execution_count": 5,
   "metadata": {},
   "outputs": [],
   "source": [
    "# Nahuel\n",
    "gpt_nawel_0 = pd.read_csv(\"https://raw.githubusercontent.com/QwagPerson/ProyectoDeIA/main/Data/GPT_generated/asistire_nawel.csv\", sep = ';')\n",
    "gpt_nawel_1 = pd.read_csv(\"https://raw.githubusercontent.com/QwagPerson/ProyectoDeIA/main/Data/GPT_generated/no_asistire_nawel.csv\", sep = ';')\n",
    "gpt_nawel_2 = pd.read_csv(\"https://raw.githubusercontent.com/QwagPerson/ProyectoDeIA/main/Data/GPT_generated/reagendar_nawel.csv\", sep = ';')\n",
    "gpt_nawel_3 = pd.read_csv(\"https://raw.githubusercontent.com/QwagPerson/ProyectoDeIA/main/Data/GPT_generated/pedir_nawel.csv\", sep = ';')\n",
    "\n",
    "# Martin\n",
    "gpt_martin_0 = pd.read_csv(\"https://raw.githubusercontent.com/QwagPerson/ProyectoDeIA/main/Data/GPT_generated/asistire_martin.csv\", sep = ';')\n",
    "gpt_martin_1 = pd.read_csv(\"https://raw.githubusercontent.com/QwagPerson/ProyectoDeIA/main/Data/GPT_generated/no_asistire_martin.csv\", sep = ';')\n",
    "gpt_martin_2 = pd.read_csv(\"https://raw.githubusercontent.com/QwagPerson/ProyectoDeIA/main/Data/GPT_generated/reagendar_martin.csv\", sep = ';')\n",
    "gpt_martin_3 = pd.read_csv(\"https://raw.githubusercontent.com/QwagPerson/ProyectoDeIA/main/Data/GPT_generated/pedir_martin.csv\", sep = ';')\n",
    "\n",
    "# Gustavo\n",
    "#gpt_tavo_0 = pd.read_csv(\"\", sep = ';')\n",
    "#gpt_tavo_1 = pd.read_csv(\"\", sep = ';')\n",
    "#gpt_tavo_2 = pd.read_csv(\"\", sep = ';')\n",
    "#gpt_tavo_3 = pd.read_csv(\"\", sep = ';')"
   ]
  },
  {
   "cell_type": "code",
   "execution_count": 6,
   "metadata": {},
   "outputs": [],
   "source": [
    "# Concat the chatgpt sentences\n",
    "df_ = pd.concat([df_, \n",
    "                 gpt_nawel_0, gpt_nawel_1, gpt_nawel_2, gpt_nawel_3,\n",
    "                 gpt_martin_0, gpt_martin_1, gpt_martin_2, gpt_martin_3])"
   ]
  },
  {
   "cell_type": "code",
   "execution_count": 7,
   "metadata": {},
   "outputs": [
    {
     "data": {
      "text/plain": [
       "class\n",
       "0    185\n",
       "1    178\n",
       "2    162\n",
       "3    141\n",
       "Name: count, dtype: int64"
      ]
     },
     "execution_count": 7,
     "metadata": {},
     "output_type": "execute_result"
    }
   ],
   "source": [
    "df_['class'].value_counts()"
   ]
  },
  {
   "attachments": {},
   "cell_type": "markdown",
   "metadata": {},
   "source": [
    "### Translate augmentation (functions)"
   ]
  },
  {
   "cell_type": "code",
   "execution_count": 8,
   "metadata": {},
   "outputs": [],
   "source": [
    "# Extra : Translate Ideas\n",
    "def sp_to_en(data):\n",
    "    augmented_data = []\n",
    "    for sentence in data:\n",
    "        # Translate Spanish sentence to English\n",
    "        translated_sentence = translate(sentence, \"en\")\n",
    "        augmented_data.append(translated_sentence)\n",
    "\n",
    "    return augmented_data\n",
    "\n",
    "def en_to_sp(data):\n",
    "    augmented_data = []\n",
    "    for sentence in data:\n",
    "        # Translate English sentence to Spanish\n",
    "        translated_sentence = translate(sentence, \"es\")\n",
    "\n",
    "        augmented_data.append(translated_sentence)\n",
    "\n",
    "    return augmented_data"
   ]
  },
  {
   "cell_type": "code",
   "execution_count": 9,
   "metadata": {},
   "outputs": [],
   "source": [
    "# Import model\n",
    "aug_fb = naw.BackTranslationAug(\n",
    "    from_model_name='facebook/wmt19-en-de', \n",
    "    to_model_name='facebook/wmt19-de-en'\n",
    ")"
   ]
  },
  {
   "cell_type": "code",
   "execution_count": 10,
   "metadata": {},
   "outputs": [],
   "source": [
    "def Translate_aug(df_):\n",
    "    # Getting the values with two or more words.\n",
    "    df_english_aug = df_[df_['text'].apply(lambda x: len(x.split()) > 2)]\n",
    "\n",
    "    # Traslate to English\n",
    "    l_english_aug = sp_to_en(df_english_aug.text.tolist())\n",
    "\n",
    "    # Find Synonyms\n",
    "    english_syn_aug = aug_fb.augment(l_english_aug)\n",
    "\n",
    "    # Translate to spanish\n",
    "    l_english_aug = en_to_sp(df_english_aug.text.tolist())\n",
    "\n",
    "    # Append text with label\n",
    "    df_english = pd.DataFrame()\n",
    "    df_english['class'] = df_english_aug['class']\n",
    "    df_english['text'] = l_english_aug\n",
    "\n",
    "    return df_english"
   ]
  },
  {
   "attachments": {},
   "cell_type": "markdown",
   "metadata": {},
   "source": [
    "### Data aug in spanish (functions)"
   ]
  },
  {
   "cell_type": "code",
   "execution_count": 11,
   "metadata": {},
   "outputs": [],
   "source": [
    "# Wordnet - spa\n",
    "aug_wn = naw.SynonymAug(aug_src='wordnet', lang='spa')"
   ]
  },
  {
   "cell_type": "code",
   "execution_count": 12,
   "metadata": {},
   "outputs": [],
   "source": [
    "def spanish_aug(df_):\n",
    "    # Getting the values with ten or more words.\n",
    "    df_spanish_aug = df_[df_['text'].apply(lambda x: len(x.split()) > 10)]\n",
    "    l_augmented = aug_wn.augment(df_spanish_aug.text.tolist())\n",
    "\n",
    "    # Append text with label\n",
    "    df_spanish = pd.DataFrame()\n",
    "    df_spanish['class'] = df_spanish_aug['class']\n",
    "    df_spanish['text'] = l_augmented\n",
    "\n",
    "    return df_spanish"
   ]
  },
  {
   "attachments": {},
   "cell_type": "markdown",
   "metadata": {
    "id": "0a2GPoPe1fpG"
   },
   "source": [
    "## Custom Features"
   ]
  },
  {
   "cell_type": "code",
   "execution_count": 13,
   "metadata": {
    "id": "gxQn-gB91jds"
   },
   "outputs": [],
   "source": [
    "class PreProccesingTransformer(BaseEstimator, TransformerMixin):\n",
    "    def preprocess(self,sentence):\n",
    "      # Deleting all except: exclamation/question signs and accents\n",
    "      new_word = re.sub(r\"[^a-zA-ZáéíóúÁÉÍÓÚñÑ¡!¿?\\s]\", '', sentence)\n",
    "      # Deleting double blank spaces\n",
    "      new_sentence = new_word.replace('  ',' ').replace('\\n','').strip()\n",
    "      return new_sentence\n",
    "\n",
    "    def transform(self, X, y=None):\n",
    "        values = []\n",
    "        for tweet in X:\n",
    "            values.append(self.preprocess(tweet))\n",
    "\n",
    "        return(np.array(values))\n",
    "\n",
    "    def fit(self, X, y=None):\n",
    "        return self"
   ]
  },
  {
   "cell_type": "code",
   "execution_count": 27,
   "metadata": {
    "id": "gxQn-gB91jds"
   },
   "outputs": [],
   "source": [
    "class Doc2VecTransformer_auxiliar(BaseEstimator, TransformerMixin):    \n",
    "    def __init__(self, model, tokenizer,aggregation_func):\n",
    "        self.model = model\n",
    "        self.tokenizer=tokenizer\n",
    "        # agregation func (np.min, np.max, np.mean, np.sum, ...)\n",
    "        self.aggregation_func = aggregation_func\n",
    "    \n",
    "    def fit(self, X, y=None):\n",
    "        return self\n",
    "\n",
    "    def transform(self, X, y=None):\n",
    "        doc_embeddings = []\n",
    "        for doc in X:\n",
    "            # tokenization the doc\n",
    "            tokens = self.tokenizer.tokenize(doc)\n",
    "            selected_wv = []\n",
    "            for token in tokens:\n",
    "                if token in self.model.index_to_key:\n",
    "                    selected_wv.append(self.model[token])\n",
    "                \n",
    "            if len(selected_wv) > 0:\n",
    "                doc_embedding = self.aggregation_func(np.array(selected_wv), axis=0)\n",
    "                doc_embeddings.append(doc_embedding)\n",
    "            else: \n",
    "                doc_embeddings.append(np.zeros(self.model.vector_size))\n",
    "\n",
    "        return np.array(doc_embeddings)"
   ]
  },
  {
   "cell_type": "code",
   "execution_count": 32,
   "metadata": {},
   "outputs": [],
   "source": [
    "current_dir = os.getcwd()\n",
    "wordvectors_file_vec = os.path.join(current_dir, \"WordEmbeddings\", \"Spanis_Unannotated_Corpora.vec\")\n",
    "\n",
    "cantidad = 600000\n",
    "wordvectors = KeyedVectors.load_word2vec_format(wordvectors_file_vec, limit=cantidad)"
   ]
  },
  {
   "attachments": {},
   "cell_type": "markdown",
   "metadata": {
    "id": "6LJM2N-Uvx0j"
   },
   "source": [
    "## Pipeline"
   ]
  },
  {
   "attachments": {},
   "cell_type": "markdown",
   "metadata": {
    "id": "dewh_gkEyZNh",
    "jp-MarkdownHeadingCollapsed": true
   },
   "source": [
    "### Run Pipeline"
   ]
  },
  {
   "cell_type": "code",
   "execution_count": 14,
   "metadata": {
    "id": "81FPMnTLM0Ts"
   },
   "outputs": [],
   "source": [
    "# Defining threshold\n",
    "thresholds = {\n",
    "    0: 0.90,  # class 0\n",
    "    1: 0.80,  # class 1\n",
    "    2: 0.80,   # class 2\n",
    "    3: 0.80   #class 3\n",
    "}\n",
    "\n",
    "\n",
    "def custom_predict(model, X, class_thresholds):\n",
    "    # Get probabilities\n",
    "    probabilities = model.predict_proba(X)\n",
    "\n",
    "    # Aplied threshold\n",
    "    modified_predictions = np.argmax(probabilities, axis=1)\n",
    "    for class_label, threshold in class_thresholds.items():\n",
    "        modified_predictions[probabilities[:, class_label] > threshold] = class_label\n",
    "\n",
    "    return modified_predictions"
   ]
  },
  {
   "cell_type": "code",
   "execution_count": 15,
   "metadata": {
    "id": "GGE3LfHRysWI"
   },
   "outputs": [],
   "source": [
    "def run(dataset, pipeline):\n",
    "\n",
    "    X_train, X_test, y_train, y_test = train_test_split(\n",
    "        dataset['text'],\n",
    "        dataset['class'],\n",
    "        shuffle=True,\n",
    "        test_size=0.2,\n",
    "        random_state=42,\n",
    "        stratify=dataset['class']\n",
    "    )\n",
    "\n",
    "    print(f\"# Len Training Data: {len(X_train)}\")\n",
    "    print(f\"# Len Testing Data: {len(X_test)}\")\n",
    "\n",
    "    print('Aplying data aug')\n",
    "\n",
    "    df_to_aug = pd.DataFrame({'text': X_train, 'class': y_train})\n",
    "\n",
    "    english_df = Translate_aug(df_to_aug)\n",
    "    spanish_df = spanish_aug(df_to_aug)\n",
    "\n",
    "    X_train = pd.concat([X_train, english_df['text'], spanish_df['text']])\n",
    "    y_train = pd.concat([y_train, english_df['class'], spanish_df['class']])\n",
    "\n",
    "    print(f\"# NEW Len Training Data: {len(X_train)}\")\n",
    "    print(f\"# NEW Len Testing Data: {len(X_test)}\")\n",
    "\n",
    "    pipeline.fit(X_train, y_train)\n",
    "\n",
    "\n",
    "    # Classes propbailities\n",
    "    probabilities = pipeline.predict_proba(X_test)\n",
    "\n",
    "\n",
    "    # Predicted labels\n",
    "    predicted_labels = pipeline.predict(X_test)\n",
    "    #predicted_labels = custom_predict(pipeline, X_test, thresholds)\n",
    "\n",
    "\n",
    "    print(classification_report(y_test, predicted_labels))\n",
    "\n",
    "\n",
    "    return pipeline, X_train, X_test, y_train, y_test, predicted_labels, probabilities\n"
   ]
  },
  {
   "attachments": {},
   "cell_type": "markdown",
   "metadata": {
    "id": "wIMBgRmCyd6Y"
   },
   "source": [
    "## Defining Pipelines"
   ]
  },
  {
   "cell_type": "code",
   "execution_count": 37,
   "metadata": {
    "id": "RoiPLpB6wNgx"
   },
   "outputs": [],
   "source": [
    "# simple Pipeline only BOW\n",
    "\n",
    "def get_experiment_0_pipeline():\n",
    "\n",
    "    return Pipeline(\n",
    "        [\n",
    "            (\n",
    "                \"features\",\n",
    "                FeatureUnion(\n",
    "                    [\n",
    "                        (\"bow\", CountVectorizer()),\n",
    "                    ]\n",
    "                ),\n",
    "            ),\n",
    "            (\"clf\", MultinomialNB()),\n",
    "        ]\n",
    "    )"
   ]
  },
  {
   "cell_type": "code",
   "execution_count": 17,
   "metadata": {
    "id": "tqZbmwfz2UTM"
   },
   "outputs": [],
   "source": [
    "# simple Pipeline only Preprocessing + BOW\n",
    "\n",
    "def get_experiment_1_pipeline():\n",
    "\n",
    "    return Pipeline(\n",
    "        [\n",
    "            (\"preprocessing\", PreProccesingTransformer()),\n",
    "            (\n",
    "                \"features\",\n",
    "                FeatureUnion(\n",
    "                    [\n",
    "                        (\"bow\", CountVectorizer())\n",
    "                    ]\n",
    "                ),\n",
    "            ),\n",
    "            (\"clf\", MultinomialNB()),\n",
    "        ]\n",
    "    )"
   ]
  },
  {
   "cell_type": "code",
   "execution_count": 45,
   "metadata": {},
   "outputs": [],
   "source": [
    "# simple Pipeline only BOW\n",
    "\n",
    "def get_experiment_2_pipeline():\n",
    "\n",
    "    return Pipeline(\n",
    "        [\n",
    "            (\n",
    "                \"features\",\n",
    "                FeatureUnion(\n",
    "                    [\n",
    "                        (\"bow\", CountVectorizer()),\n",
    "                        ('d2v', Doc2VecTransformer_auxiliar(wordvectors,TweetTokenizer(),np.sum)),\n",
    "                    ]\n",
    "                ),\n",
    "            ),\n",
    "           (\"clf\", GradientBoostingClassifier(n_estimators=200, learning_rate=0.7, max_depth=1, random_state=0)),\n",
    "        ]\n",
    "    )"
   ]
  },
  {
   "cell_type": "code",
   "execution_count": 46,
   "metadata": {},
   "outputs": [],
   "source": [
    "# simple Pipeline only BOW\n",
    "\n",
    "def get_experiment_3_pipeline():\n",
    "\n",
    "    return Pipeline(\n",
    "        [\n",
    "            (\n",
    "                \"features\",\n",
    "                FeatureUnion(\n",
    "                    [\n",
    "                        (\"bow\", CountVectorizer()),\n",
    "                        ('d2v', Doc2VecTransformer_auxiliar(wordvectors,TweetTokenizer(),np.sum)),\n",
    "                    ]\n",
    "                ),\n",
    "            ),\n",
    "           ('clf', SVC(probability=True)),\n",
    "        ]\n",
    "    )"
   ]
  },
  {
   "attachments": {},
   "cell_type": "markdown",
   "metadata": {
    "id": "f7cZ4DHxxQMJ"
   },
   "source": [
    "## Implementación del modelo"
   ]
  },
  {
   "cell_type": "code",
   "execution_count": 38,
   "metadata": {
    "colab": {
     "base_uri": "https://localhost:8080/"
    },
    "id": "p2Jy6hTjyG5A",
    "outputId": "a9d1f332-560b-40fc-ad95-95d1ee4b157a"
   },
   "outputs": [
    {
     "name": "stdout",
     "output_type": "stream",
     "text": [
      "# Len Training Data: 532\n",
      "# Len Testing Data: 134\n",
      "Aplying data aug\n",
      "# NEW Len Training Data: 1181\n",
      "# NEW Len Testing Data: 134\n",
      "              precision    recall  f1-score   support\n",
      "\n",
      "           0       0.94      0.78      0.85        37\n",
      "           1       0.84      0.86      0.85        36\n",
      "           2       0.82      0.94      0.87        33\n",
      "           3       0.93      0.93      0.93        28\n",
      "\n",
      "    accuracy                           0.87       134\n",
      "   macro avg       0.88      0.88      0.88       134\n",
      "weighted avg       0.88      0.87      0.87       134\n",
      "\n"
     ]
    }
   ],
   "source": [
    "# Simple Pipeline Test\n",
    "pipeline0 = get_experiment_0_pipeline()\n",
    "\n",
    "prob = run(df_, pipeline0)"
   ]
  },
  {
   "cell_type": "code",
   "execution_count": 20,
   "metadata": {},
   "outputs": [],
   "source": [
    "# Save the model\n",
    "with open('model0.bin', 'wb') as fil:\n",
    "    pickle.dump(pipeline0, fil)"
   ]
  },
  {
   "cell_type": "code",
   "execution_count": 22,
   "metadata": {
    "colab": {
     "base_uri": "https://localhost:8080/"
    },
    "id": "bnQh_0k42teE",
    "outputId": "00072766-027a-459f-8702-38a52b11b0af"
   },
   "outputs": [
    {
     "name": "stdout",
     "output_type": "stream",
     "text": [
      "# Len Training Data: 532\n",
      "# Len Testing Data: 134\n",
      "Aplying data aug\n",
      "# NEW Len Training Data: 1181\n",
      "# NEW Len Testing Data: 134\n",
      "              precision    recall  f1-score   support\n",
      "\n",
      "           0       0.94      0.78      0.85        37\n",
      "           1       0.83      0.83      0.83        36\n",
      "           2       0.79      0.94      0.86        33\n",
      "           3       0.93      0.93      0.93        28\n",
      "\n",
      "    accuracy                           0.87       134\n",
      "   macro avg       0.87      0.87      0.87       134\n",
      "weighted avg       0.87      0.87      0.87       134\n",
      "\n"
     ]
    }
   ],
   "source": [
    "# Simple Pipeline Test (+ preprocessing)\n",
    "pipeline1 = get_experiment_1_pipeline()\n",
    "\n",
    "_ = run(df_, pipeline1)"
   ]
  },
  {
   "cell_type": "code",
   "execution_count": 23,
   "metadata": {},
   "outputs": [],
   "source": [
    "# Save the model\n",
    "with open('model1.bin', 'wb') as fil:\n",
    "    pickle.dump(pipeline1, fil)"
   ]
  },
  {
   "cell_type": "code",
   "execution_count": 48,
   "metadata": {},
   "outputs": [
    {
     "name": "stdout",
     "output_type": "stream",
     "text": [
      "# Len Training Data: 532\n",
      "# Len Testing Data: 134\n",
      "Aplying data aug\n",
      "# NEW Len Training Data: 1181\n",
      "# NEW Len Testing Data: 134\n",
      "              precision    recall  f1-score   support\n",
      "\n",
      "           0       0.87      0.92      0.89        37\n",
      "           1       0.91      0.89      0.90        36\n",
      "           2       0.87      0.79      0.83        33\n",
      "           3       0.90      0.96      0.93        28\n",
      "\n",
      "    accuracy                           0.89       134\n",
      "   macro avg       0.89      0.89      0.89       134\n",
      "weighted avg       0.89      0.89      0.89       134\n",
      "\n"
     ]
    }
   ],
   "source": [
    "# Word 2 vec text\n",
    "from sklearn.svm import SVC\n",
    "pipeline2 = get_experiment_2_pipeline()\n",
    "\n",
    "prob = run(df_, pipeline2)"
   ]
  },
  {
   "cell_type": "code",
   "execution_count": 49,
   "metadata": {},
   "outputs": [
    {
     "name": "stdout",
     "output_type": "stream",
     "text": [
      "# Len Training Data: 532\n",
      "# Len Testing Data: 134\n",
      "Aplying data aug\n",
      "# NEW Len Training Data: 1181\n",
      "# NEW Len Testing Data: 134\n",
      "              precision    recall  f1-score   support\n",
      "\n",
      "           0       0.76      0.86      0.81        37\n",
      "           1       0.89      0.69      0.78        36\n",
      "           2       0.83      0.91      0.87        33\n",
      "           3       0.93      0.93      0.93        28\n",
      "\n",
      "    accuracy                           0.84       134\n",
      "   macro avg       0.85      0.85      0.85       134\n",
      "weighted avg       0.85      0.84      0.84       134\n",
      "\n"
     ]
    }
   ],
   "source": [
    "from sklearn.ensemble import GradientBoostingClassifier\n",
    "pipeline3 = get_experiment_3_pipeline()\n",
    "\n",
    "prob = run(df_, pipeline3)"
   ]
  },
  {
   "cell_type": "code",
   "execution_count": 24,
   "metadata": {},
   "outputs": [],
   "source": [
    "## User response"
   ]
  },
  {
   "cell_type": "code",
   "execution_count": 25,
   "metadata": {},
   "outputs": [],
   "source": [
    "map_label= {\n",
    "    0: 'Asistir a la',\n",
    "    1: 'Cancelar la',\n",
    "    2: 'Reagendar la',\n",
    "    3: 'Pedir una'\n",
    "}\n",
    "\n",
    "options = {\n",
    "    0: 'Su reserva a quedado confirmada para el DD de MM',\n",
    "    1: 'Su reserva con fecha DD de MM a quedado cancelada',\n",
    "    2: 'Las fechas para reagendar son las siguientes',\n",
    "    3: 'Las fechas próximas son las siguientes'\n",
    "}\n",
    "\n",
    "def manage_mesages(target):\n",
    "    # Make a prediction\n",
    "    label = pipeline1.predict([target])[0]\n",
    "    print(f\"usted quiere {map_label[label]} hora\")\n",
    "    print(options[label])"
   ]
  },
  {
   "cell_type": "code",
   "execution_count": 26,
   "metadata": {},
   "outputs": [
    {
     "name": "stdout",
     "output_type": "stream",
     "text": [
      "usted quiere Cancelar la hora\n",
      "Su reserva con fecha DD de MM a quedado cancelada\n"
     ]
    }
   ],
   "source": [
    "manage_mesages('Puedo cancelar la hora??')"
   ]
  }
 ],
 "metadata": {
  "colab": {
   "provenance": []
  },
  "kernelspec": {
   "display_name": "Python 3 (ipykernel)",
   "language": "python",
   "name": "python3"
  },
  "language_info": {
   "codemirror_mode": {
    "name": "ipython",
    "version": 3
   },
   "file_extension": ".py",
   "mimetype": "text/x-python",
   "name": "python",
   "nbconvert_exporter": "python",
   "pygments_lexer": "ipython3",
   "version": "3.10.11"
  }
 },
 "nbformat": 4,
 "nbformat_minor": 4
}
