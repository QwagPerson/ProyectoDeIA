{
 "cells": [
  {
   "cell_type": "markdown",
   "id": "b495d80c-1504-406a-866b-3ad2bb6e2f99",
   "metadata": {},
   "source": [
    "## Without NER"
   ]
  },
  {
   "cell_type": "code",
   "execution_count": 1,
   "id": "d1e9e6a9-c05a-4f1b-ac79-7ec5ad7b5665",
   "metadata": {},
   "outputs": [],
   "source": [
    "from mtranslate import translate\n",
    "import datefinder"
   ]
  },
  {
   "cell_type": "code",
   "execution_count": 2,
   "id": "da430cc8-791b-47bc-9fd1-b36e84b5dea4",
   "metadata": {},
   "outputs": [],
   "source": [
    "# Using the function to translate spanish to english\n",
    "def sp_to_en(sentence):\n",
    "    return translate(sentence, \"en\")"
   ]
  },
  {
   "cell_type": "code",
   "execution_count": 3,
   "id": "03ef6e91-9e51-40eb-815f-21bba9e90490",
   "metadata": {},
   "outputs": [],
   "source": [
    "def extract_dates(text):\n",
    "    matches = datefinder.find_dates(text)\n",
    "    for match in matches:\n",
    "        formatted_date = match.strftime(\"%d-%m-%Y\")\n",
    "        return formatted_date"
   ]
  },
  {
   "cell_type": "code",
   "execution_count": 4,
   "id": "f0ad4e0e-5a11-4bfc-8de5-b93d5cf8b8ad",
   "metadata": {},
   "outputs": [],
   "source": [
    "text = ['Quiero una cita para el 17 de Octubre',\n",
    "       'Es posible me den una cita para mañana?',\n",
    "       'Me acomoda para el proximo martes',\n",
    "       'Me acomoda el viernes 18'] # Is friday 14 and thuesday 11, for this returns 2 values"
   ]
  },
  {
   "cell_type": "code",
   "execution_count": 5,
   "id": "7387c265-9ceb-4f96-b156-a3ad06fc03dc",
   "metadata": {},
   "outputs": [
    {
     "name": "stdout",
     "output_type": "stream",
     "text": [
      "17-10-2023\n",
      "None\n",
      "None\n",
      "21-07-2023\n"
     ]
    }
   ],
   "source": [
    "eng = []\n",
    "\n",
    "for i in text:\n",
    "    val = sp_to_en(i)\n",
    "    eng.append(val)\n",
    "\n",
    "\n",
    "for i in eng:\n",
    "    date = extract_dates(i)\n",
    "    print(date)"
   ]
  },
  {
   "cell_type": "markdown",
   "id": "22047323-8a3f-404e-85bf-b2b430fd2e6e",
   "metadata": {},
   "source": [
    "## Transform String"
   ]
  },
  {
   "cell_type": "code",
   "execution_count": 6,
   "id": "83c21a32-60ee-4e0b-a189-7d7b4e0b7fda",
   "metadata": {},
   "outputs": [
    {
     "name": "stdout",
     "output_type": "stream",
     "text": [
      "Martes 11-07-2023\n"
     ]
    }
   ],
   "source": [
    "from datetime import datetime\n",
    "\n",
    "def transform_date_string(date_string):\n",
    "    # Parse the input string as a datetime object\n",
    "    date = datetime.strptime(date_string, '%d-%m-%Y')\n",
    "    \n",
    "    # Format the output string as \"DAY NAME dd-mm-yyyy\"\n",
    "    day_name = date.strftime('%A')\n",
    "\n",
    "    # Days Dict\n",
    "    day_dict = {\n",
    "        'Monday': 'Lunes',\n",
    "        'Tuesday': 'Martes',\n",
    "        'Wednesday': 'Miércoles',\n",
    "        'Thursday': 'Jueves',\n",
    "        'Friday': 'Viernes',\n",
    "        'Saturday': 'Sábado',\n",
    "        'Sunday': 'Domingo'\n",
    "    }\n",
    "    \n",
    "    # Replace Name\n",
    "    day_name = day_dict.get(day_name)\n",
    "\n",
    "    date_ = date.strftime(f'{day_name} %d-%m-%Y')\n",
    "\n",
    "    return date_\n",
    "\n",
    "\n",
    "# Example usage\n",
    "input_string = '11-07-2023'\n",
    "output_string = transform_date_string(input_string)\n",
    "print(output_string)"
   ]
  },
  {
   "cell_type": "markdown",
   "id": "b76054f2-7061-4770-9b86-b949930b0b32",
   "metadata": {},
   "source": [
    "## With NER"
   ]
  },
  {
   "cell_type": "code",
   "execution_count": 7,
   "id": "b83ab63c-6a36-4c56-89fa-9ac393952bd9",
   "metadata": {},
   "outputs": [
    {
     "data": {
      "text/plain": [
       "'11-07-2023'"
      ]
     },
     "execution_count": 7,
     "metadata": {},
     "output_type": "execute_result"
    }
   ],
   "source": [
    "extract_dates('Friday, July 11')"
   ]
  },
  {
   "cell_type": "code",
   "execution_count": 8,
   "id": "cfd57b7a-edc2-43ab-b0d9-6850803b0b6c",
   "metadata": {},
   "outputs": [
    {
     "ename": "OSError",
     "evalue": "[E050] Can't find model 'en_core_web_sm'. It doesn't seem to be a Python package or a valid path to a data directory.",
     "output_type": "error",
     "traceback": [
      "\u001b[1;31m---------------------------------------------------------------------------\u001b[0m",
      "\u001b[1;31mOSError\u001b[0m                                   Traceback (most recent call last)",
      "Cell \u001b[1;32mIn[8], line 5\u001b[0m\n\u001b[0;32m      2\u001b[0m \u001b[38;5;28;01mimport\u001b[39;00m \u001b[38;5;21;01mdatefinder\u001b[39;00m\n\u001b[0;32m      3\u001b[0m \u001b[38;5;28;01mimport\u001b[39;00m \u001b[38;5;21;01mdatetime\u001b[39;00m\n\u001b[1;32m----> 5\u001b[0m nlp \u001b[38;5;241m=\u001b[39m \u001b[43mspacy\u001b[49m\u001b[38;5;241;43m.\u001b[39;49m\u001b[43mload\u001b[49m\u001b[43m(\u001b[49m\u001b[38;5;124;43m\"\u001b[39;49m\u001b[38;5;124;43men_core_web_sm\u001b[39;49m\u001b[38;5;124;43m\"\u001b[39;49m\u001b[43m)\u001b[49m\n",
      "File \u001b[1;32m~\\AppData\\Local\\Programs\\Python\\Python310\\lib\\site-packages\\spacy\\__init__.py:51\u001b[0m, in \u001b[0;36mload\u001b[1;34m(name, vocab, disable, enable, exclude, config)\u001b[0m\n\u001b[0;32m     27\u001b[0m \u001b[38;5;28;01mdef\u001b[39;00m \u001b[38;5;21mload\u001b[39m(\n\u001b[0;32m     28\u001b[0m     name: Union[\u001b[38;5;28mstr\u001b[39m, Path],\n\u001b[0;32m     29\u001b[0m     \u001b[38;5;241m*\u001b[39m,\n\u001b[1;32m   (...)\u001b[0m\n\u001b[0;32m     34\u001b[0m     config: Union[Dict[\u001b[38;5;28mstr\u001b[39m, Any], Config] \u001b[38;5;241m=\u001b[39m util\u001b[38;5;241m.\u001b[39mSimpleFrozenDict(),\n\u001b[0;32m     35\u001b[0m ) \u001b[38;5;241m-\u001b[39m\u001b[38;5;241m>\u001b[39m Language:\n\u001b[0;32m     36\u001b[0m \u001b[38;5;250m    \u001b[39m\u001b[38;5;124;03m\"\"\"Load a spaCy model from an installed package or a local path.\u001b[39;00m\n\u001b[0;32m     37\u001b[0m \n\u001b[0;32m     38\u001b[0m \u001b[38;5;124;03m    name (str): Package name or model path.\u001b[39;00m\n\u001b[1;32m   (...)\u001b[0m\n\u001b[0;32m     49\u001b[0m \u001b[38;5;124;03m    RETURNS (Language): The loaded nlp object.\u001b[39;00m\n\u001b[0;32m     50\u001b[0m \u001b[38;5;124;03m    \"\"\"\u001b[39;00m\n\u001b[1;32m---> 51\u001b[0m     \u001b[38;5;28;01mreturn\u001b[39;00m \u001b[43mutil\u001b[49m\u001b[38;5;241;43m.\u001b[39;49m\u001b[43mload_model\u001b[49m\u001b[43m(\u001b[49m\n\u001b[0;32m     52\u001b[0m \u001b[43m        \u001b[49m\u001b[43mname\u001b[49m\u001b[43m,\u001b[49m\n\u001b[0;32m     53\u001b[0m \u001b[43m        \u001b[49m\u001b[43mvocab\u001b[49m\u001b[38;5;241;43m=\u001b[39;49m\u001b[43mvocab\u001b[49m\u001b[43m,\u001b[49m\n\u001b[0;32m     54\u001b[0m \u001b[43m        \u001b[49m\u001b[43mdisable\u001b[49m\u001b[38;5;241;43m=\u001b[39;49m\u001b[43mdisable\u001b[49m\u001b[43m,\u001b[49m\n\u001b[0;32m     55\u001b[0m \u001b[43m        \u001b[49m\u001b[43menable\u001b[49m\u001b[38;5;241;43m=\u001b[39;49m\u001b[43menable\u001b[49m\u001b[43m,\u001b[49m\n\u001b[0;32m     56\u001b[0m \u001b[43m        \u001b[49m\u001b[43mexclude\u001b[49m\u001b[38;5;241;43m=\u001b[39;49m\u001b[43mexclude\u001b[49m\u001b[43m,\u001b[49m\n\u001b[0;32m     57\u001b[0m \u001b[43m        \u001b[49m\u001b[43mconfig\u001b[49m\u001b[38;5;241;43m=\u001b[39;49m\u001b[43mconfig\u001b[49m\u001b[43m,\u001b[49m\n\u001b[0;32m     58\u001b[0m \u001b[43m    \u001b[49m\u001b[43m)\u001b[49m\n",
      "File \u001b[1;32m~\\AppData\\Local\\Programs\\Python\\Python310\\lib\\site-packages\\spacy\\util.py:472\u001b[0m, in \u001b[0;36mload_model\u001b[1;34m(name, vocab, disable, enable, exclude, config)\u001b[0m\n\u001b[0;32m    470\u001b[0m \u001b[38;5;28;01mif\u001b[39;00m name \u001b[38;5;129;01min\u001b[39;00m OLD_MODEL_SHORTCUTS:\n\u001b[0;32m    471\u001b[0m     \u001b[38;5;28;01mraise\u001b[39;00m \u001b[38;5;167;01mIOError\u001b[39;00m(Errors\u001b[38;5;241m.\u001b[39mE941\u001b[38;5;241m.\u001b[39mformat(name\u001b[38;5;241m=\u001b[39mname, full\u001b[38;5;241m=\u001b[39mOLD_MODEL_SHORTCUTS[name]))  \u001b[38;5;66;03m# type: ignore[index]\u001b[39;00m\n\u001b[1;32m--> 472\u001b[0m \u001b[38;5;28;01mraise\u001b[39;00m \u001b[38;5;167;01mIOError\u001b[39;00m(Errors\u001b[38;5;241m.\u001b[39mE050\u001b[38;5;241m.\u001b[39mformat(name\u001b[38;5;241m=\u001b[39mname))\n",
      "\u001b[1;31mOSError\u001b[0m: [E050] Can't find model 'en_core_web_sm'. It doesn't seem to be a Python package or a valid path to a data directory."
     ]
    }
   ],
   "source": [
    "import spacy\n",
    "import datefinder\n",
    "import datetime\n",
    "\n",
    "nlp = spacy.load(\"en_core_web_sm\")"
   ]
  },
  {
   "cell_type": "code",
   "execution_count": null,
   "id": "7c84fcb5-558f-499d-810a-0d1c50fd2da9",
   "metadata": {},
   "outputs": [],
   "source": [
    "def dates_tokenizer(text):\n",
    "    doc = nlp(text)    \n",
    "    dates = []\n",
    "    for ent in doc.ents:\n",
    "        if ent.label_ == \"DATE\": \n",
    "            date_ = extract_dates(ent.text)\n",
    "            dates.append(transform_date_string(date_))\n",
    "\n",
    "    if len(dates) > 1:\n",
    "        print('Hemos encontrado más de 1 fecha válida. Ingrese nuevamente la fecha deseada')\n",
    "    else:\n",
    "        print(f'Fecha: {dates[0]}')\n",
    "\n",
    "# Example\n",
    "text = 'Me acomoda el viernes 11 de julio'\n",
    "eng = sp_to_en(text)\n",
    "dates = dates_tokenizer(eng)\n",
    "\n"
   ]
  },
  {
   "cell_type": "code",
   "execution_count": null,
   "id": "121db53b-d564-4470-b02d-2c9334f4f0cd",
   "metadata": {},
   "outputs": [],
   "source": []
  }
 ],
 "metadata": {
  "kernelspec": {
   "display_name": "Python 3 (ipykernel)",
   "language": "python",
   "name": "python3"
  },
  "language_info": {
   "codemirror_mode": {
    "name": "ipython",
    "version": 3
   },
   "file_extension": ".py",
   "mimetype": "text/x-python",
   "name": "python",
   "nbconvert_exporter": "python",
   "pygments_lexer": "ipython3",
   "version": "3.10.11"
  }
 },
 "nbformat": 4,
 "nbformat_minor": 5
}
