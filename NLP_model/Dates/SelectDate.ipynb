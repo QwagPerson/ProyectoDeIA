{
 "cells": [
  {
   "cell_type": "markdown",
   "id": "b495d80c-1504-406a-866b-3ad2bb6e2f99",
   "metadata": {},
   "source": [
    "## Without NER"
   ]
  },
  {
   "cell_type": "code",
   "execution_count": 14,
   "id": "d1e9e6a9-c05a-4f1b-ac79-7ec5ad7b5665",
   "metadata": {},
   "outputs": [],
   "source": [
    "from mtranslate import translate\n",
    "import datefinder"
   ]
  },
  {
   "cell_type": "code",
   "execution_count": 15,
   "id": "da430cc8-791b-47bc-9fd1-b36e84b5dea4",
   "metadata": {},
   "outputs": [],
   "source": [
    "# Using the function to translate spanish to english\n",
    "def sp_to_en(sentence):\n",
    "    return translate(sentence, \"en\")"
   ]
  },
  {
   "cell_type": "code",
   "execution_count": 26,
   "id": "03ef6e91-9e51-40eb-815f-21bba9e90490",
   "metadata": {},
   "outputs": [],
   "source": [
    "def extract_dates(text):\n",
    "    matches = datefinder.find_dates(text)\n",
    "    for match in matches:\n",
    "        formatted_date = match.strftime(\"%d-%m-%Y\")\n",
    "        return formatted_date"
   ]
  },
  {
   "cell_type": "code",
   "execution_count": 27,
   "id": "f0ad4e0e-5a11-4bfc-8de5-b93d5cf8b8ad",
   "metadata": {},
   "outputs": [],
   "source": [
    "text = ['Quiero una cita para el 17 de Octubre',\n",
    "       'Es posible me den una cita para mañana?',\n",
    "       'Me acomoda para el proximo martes',\n",
    "       'Me acomoda el viernes 11'] # Is friday 14 and thuesday 11, for this returns 2 values"
   ]
  },
  {
   "cell_type": "code",
   "execution_count": 29,
   "id": "7387c265-9ceb-4f96-b156-a3ad06fc03dc",
   "metadata": {},
   "outputs": [
    {
     "name": "stdout",
     "output_type": "stream",
     "text": [
      "17-10-2023\n",
      "None\n",
      "None\n",
      "14-07-2023\n"
     ]
    }
   ],
   "source": [
    "eng = []\n",
    "\n",
    "for i in text:\n",
    "    val = sp_to_en(i)\n",
    "    eng.append(val)\n",
    "\n",
    "\n",
    "for i in eng:\n",
    "    date = extract_dates(i)\n",
    "    print(date)"
   ]
  },
  {
   "cell_type": "markdown",
   "id": "22047323-8a3f-404e-85bf-b2b430fd2e6e",
   "metadata": {},
   "source": [
    "## Transform String"
   ]
  },
  {
   "cell_type": "code",
   "execution_count": 41,
   "id": "83c21a32-60ee-4e0b-a189-7d7b4e0b7fda",
   "metadata": {},
   "outputs": [
    {
     "name": "stdout",
     "output_type": "stream",
     "text": [
      "Martes 11-07-2023\n"
     ]
    }
   ],
   "source": [
    "from datetime import datetime\n",
    "\n",
    "def transform_date_string(date_string):\n",
    "    # Parse the input string as a datetime object\n",
    "    date = datetime.strptime(date_string, '%d-%m-%Y')\n",
    "    \n",
    "    # Format the output string as \"DAY NAME dd-mm-yyyy\"\n",
    "    day_name = date.strftime('%A')\n",
    "\n",
    "    # Days Dict\n",
    "    day_dict = {\n",
    "        'Monday': 'Lunes',\n",
    "        'Tuesday': 'Martes',\n",
    "        'Wednesday': 'Miércoles',\n",
    "        'Thursday': 'Jueves',\n",
    "        'Friday': 'Viernes',\n",
    "        'Saturday': 'Sábado',\n",
    "        'Sunday': 'Domingo'\n",
    "    }\n",
    "    \n",
    "    # Replace Name\n",
    "    day_name = day_dict.get(day_name)\n",
    "\n",
    "    date_ = date.strftime(f'{day_name} %d-%m-%Y')\n",
    "\n",
    "    return date_\n",
    "\n",
    "\n",
    "# Example usage\n",
    "input_string = '11-07-2023'\n",
    "output_string = transform_date_string(input_string)\n",
    "print(output_string)"
   ]
  },
  {
   "cell_type": "markdown",
   "id": "b76054f2-7061-4770-9b86-b949930b0b32",
   "metadata": {},
   "source": [
    "## With NER"
   ]
  },
  {
   "cell_type": "code",
   "execution_count": 30,
   "id": "b83ab63c-6a36-4c56-89fa-9ac393952bd9",
   "metadata": {},
   "outputs": [
    {
     "data": {
      "text/plain": [
       "'11-07-2023'"
      ]
     },
     "execution_count": 30,
     "metadata": {},
     "output_type": "execute_result"
    }
   ],
   "source": [
    "extract_dates('Friday, July 11')"
   ]
  },
  {
   "cell_type": "code",
   "execution_count": 31,
   "id": "cfd57b7a-edc2-43ab-b0d9-6850803b0b6c",
   "metadata": {},
   "outputs": [],
   "source": [
    "import spacy\n",
    "import datefinder\n",
    "import datetime\n",
    "\n",
    "nlp = spacy.load(\"en_core_web_sm\")"
   ]
  },
  {
   "cell_type": "code",
   "execution_count": 43,
   "id": "7c84fcb5-558f-499d-810a-0d1c50fd2da9",
   "metadata": {},
   "outputs": [
    {
     "name": "stdout",
     "output_type": "stream",
     "text": [
      "Fecha: Martes 11-07-2023\n"
     ]
    }
   ],
   "source": [
    "def dates_tokenizer(text):\n",
    "    doc = nlp(text)    \n",
    "    dates = []\n",
    "    for ent in doc.ents:\n",
    "        if ent.label_ == \"DATE\": \n",
    "            date_ = extract_dates(ent.text)\n",
    "            dates.append(transform_date_string(date_))\n",
    "\n",
    "    if len(dates) > 1:\n",
    "        print('Hemos encontrado más de 1 fecha válida. Ingrese nuevamente la fecha deseada')\n",
    "    else:\n",
    "        print(f'Fecha: {dates[0]}')\n",
    "\n",
    "# Example\n",
    "text = 'Me acomoda el viernes 11 de julio'\n",
    "eng = sp_to_en(text)\n",
    "dates = dates_tokenizer(eng)\n",
    "\n"
   ]
  },
  {
   "cell_type": "code",
   "execution_count": null,
   "id": "121db53b-d564-4470-b02d-2c9334f4f0cd",
   "metadata": {},
   "outputs": [],
   "source": []
  }
 ],
 "metadata": {
  "kernelspec": {
   "display_name": "Python 3 (ipykernel)",
   "language": "python",
   "name": "python3"
  },
  "language_info": {
   "codemirror_mode": {
    "name": "ipython",
    "version": 3
   },
   "file_extension": ".py",
   "mimetype": "text/x-python",
   "name": "python",
   "nbconvert_exporter": "python",
   "pygments_lexer": "ipython3",
   "version": "3.10.11"
  }
 },
 "nbformat": 4,
 "nbformat_minor": 5
}
